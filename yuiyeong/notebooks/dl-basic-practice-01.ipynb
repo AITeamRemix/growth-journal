{
 "cells": [
  {
   "cell_type": "markdown",
   "id": "d0eff63476e1b102",
   "metadata": {},
   "source": "# 딥러닝 파이프라인을 처음부터 끝까지 구현해보기"
  },
  {
   "cell_type": "markdown",
   "id": "3912179ff8b5c1cf",
   "metadata": {},
   "source": [
    "## 데이터셋\n",
    "\n",
    "### MNIST 데이터셋\n",
    "\n",
    "![MNIST Example](https://upload.wikimedia.org/wikipedia/commons/f/f7/MnistExamplesModified.png)\n",
    "\n",
    "- MNIST 데이터셋은 미국의 NIST에서 이미지 처리 시스템을 위해 모은 손글씨 이미지 데이터셋 NIST Special Database 3 중 일부를 재구성한 것\n",
    "- 0부터 9까지의 숫자 이미지와 이에 대응되는 숫자가 한 쌍으로 구성\n",
    "- 이 데이터셋은 머신러닝 및 딥러닝 분야에서 가장 잘 알려진 벤치마크 데이터셋 중 하나\n",
    "- 특히 딥러닝 기초 관련 교보재에 주로 활용\n",
    "- 데이터셋 구성\n",
    "    - 입력(이미지): 0부터 9까지의 숫자 중 하나에 속하는 28px * 28px의 흑백 이미지\n",
    "    - 출력(숫자): 주어진 이미지에 대응되는 숫자 (0~9)\n",
    "- 데이터 샘플 수\n",
    "    - 학습 데이터: 60,000 개\n",
    "    - 테스트 데이터: 10,000 개\n",
    "- 데이터셋 저작권: [CC BY-SA 3.0](https://creativecommons.org/licenses/by-sa/3.0/)"
   ]
  },
  {
   "cell_type": "code",
   "execution_count": 1,
   "id": "758cd05226210e15",
   "metadata": {
    "ExecuteTime": {
     "end_time": "2025-06-19T13:15:48.143879Z",
     "start_time": "2025-06-19T13:15:48.096123Z"
    }
   },
   "outputs": [],
   "source": [
    "import random\n",
    "\n",
    "import numpy as np\n",
    "\n",
    "\n",
    "# 재현성을 위한 시드 고정\n",
    "SEED = 42\n",
    "random.seed(SEED)\n",
    "np.random.seed(SEED)"
   ]
  },
  {
   "cell_type": "markdown",
   "id": "71e2f8995d8f50ef",
   "metadata": {},
   "source": "### MNIST 데이터셋 다운로드 및 가져오기"
  },
  {
   "cell_type": "code",
   "execution_count": 2,
   "id": "e5da576c4c7044e1",
   "metadata": {
    "ExecuteTime": {
     "end_time": "2025-06-19T13:15:48.211288Z",
     "start_time": "2025-06-19T13:15:48.209621Z"
    }
   },
   "outputs": [],
   "source": [
    "from pathlib import Path\n",
    "\n",
    "\n",
    "DATASET_DIR = Path(\"./data/MNIST\")  # 다운받을 data directory 먼저 초기화\n",
    "DATASET_DIR.mkdir(parents=True, exist_ok=True)"
   ]
  },
  {
   "cell_type": "code",
   "execution_count": 3,
   "id": "ee7846246e74e2a4",
   "metadata": {
    "ExecuteTime": {
     "end_time": "2025-06-19T13:15:48.222344Z",
     "start_time": "2025-06-19T13:15:48.220678Z"
    }
   },
   "outputs": [],
   "source": [
    "URL_MNIST = \"https://ossci-datasets.s3.amazonaws.com/mnist/\"\n",
    "\n",
    "KEY_FILES = {\n",
    "    \"train_img\": \"train-images-idx3-ubyte.gz\",\n",
    "    \"train_label\": \"train-labels-idx1-ubyte.gz\",\n",
    "    \"test_img\": \"t10k-images-idx3-ubyte.gz\",\n",
    "    \"test_label\": \"t10k-labels-idx1-ubyte.gz\",\n",
    "}"
   ]
  },
  {
   "cell_type": "code",
   "execution_count": 4,
   "id": "38e54ca1fd7b201a",
   "metadata": {
    "ExecuteTime": {
     "end_time": "2025-06-19T13:15:55.216223Z",
     "start_time": "2025-06-19T13:15:48.229590Z"
    }
   },
   "outputs": [
    {
     "name": "stdout",
     "output_type": "stream",
     "text": [
      "Downloaded train-images-idx3-ubyte.gz to data/MNIST/train-images-idx3-ubyte.gz\n",
      "Downloaded train-labels-idx1-ubyte.gz to data/MNIST/train-labels-idx1-ubyte.gz\n",
      "Downloaded t10k-images-idx3-ubyte.gz to data/MNIST/t10k-images-idx3-ubyte.gz\n",
      "Downloaded t10k-labels-idx1-ubyte.gz to data/MNIST/t10k-labels-idx1-ubyte.gz\n"
     ]
    }
   ],
   "source": [
    "# 해당 경로에 파일 없는 경우에 다운로드 하도록함\n",
    "from urllib.request import urlretrieve\n",
    "\n",
    "\n",
    "filelist = DATASET_DIR.glob(\"*\")\n",
    "\n",
    "for filename in KEY_FILES.values():\n",
    "    if filename not in filelist:\n",
    "        filepath = DATASET_DIR / filename\n",
    "        urlretrieve(URL_MNIST + filename, filepath)\n",
    "        print(\"Downloaded\", filename, \"to\", filepath)"
   ]
  },
  {
   "cell_type": "markdown",
   "id": "78658bd5d345b244",
   "metadata": {},
   "source": "### MNIST 데이터셋 전처리"
  },
  {
   "cell_type": "code",
   "execution_count": 5,
   "id": "787293e58c4b5a9",
   "metadata": {
    "ExecuteTime": {
     "end_time": "2025-06-19T13:15:55.234582Z",
     "start_time": "2025-06-19T13:15:55.231295Z"
    }
   },
   "outputs": [],
   "source": [
    "import gzip\n",
    "\n",
    "import numpy as np\n",
    "\n",
    "\n",
    "def convert_img_to_ndarray(img_zip_path: Path) -> np.ndarray[np.ndarray[np.float32]]:\n",
    "    with gzip.open(img_zip_path) as f:\n",
    "        # buffer: 버퍼 객체(여기서는 f.read())\n",
    "        # dtype: 데이터 타입(여기서는 \"B\", unsigned byte를 의미, np.uint8과 동일)\n",
    "        # offset: 시작 위치를 지정하는 byte offset(여기서는 매직 넘버(16))\n",
    "        #         첫 16 byte 는 n_imgs, n_rows, n_cols 의 정보이므로 무시\n",
    "        pixels = np.frombuffer(f.read(), \"B\", offset=16)\n",
    "\n",
    "    # (채널 수, 1차원이 된 이미지 데이터) MNIST 는 흑백이므로 채널 수는 1\n",
    "    return pixels.reshape(-1, 28 * 28).astype(np.float32) / 255.0  # 0 ~ 1 사이로 정규화"
   ]
  },
  {
   "cell_type": "code",
   "execution_count": 6,
   "id": "4e518c0d5ff14f16",
   "metadata": {
    "ExecuteTime": {
     "end_time": "2025-06-19T13:15:55.369515Z",
     "start_time": "2025-06-19T13:15:55.246781Z"
    }
   },
   "outputs": [],
   "source": [
    "# 학습 및 테스트 이미지를 numpy 행렬로 변환 및 정규화 전처리 진행\n",
    "x_train = convert_img_to_ndarray(DATASET_DIR / KEY_FILES[\"train_img\"])\n",
    "x_test = convert_img_to_ndarray(DATASET_DIR / KEY_FILES[\"test_img\"])"
   ]
  },
  {
   "cell_type": "code",
   "execution_count": 7,
   "id": "3a72f27022008e6d",
   "metadata": {
    "ExecuteTime": {
     "end_time": "2025-06-19T13:15:55.378004Z",
     "start_time": "2025-06-19T13:15:55.375683Z"
    }
   },
   "outputs": [],
   "source": [
    "def encoding_as_onehot(int_labels: np.ndarray[np.int8]) -> np.ndarray[np.ndarray[np.int8]]:\n",
    "    # 입력 값 예시:\n",
    "    # [7, 2, 1, 0, 4, ...] (각 샘플의 클래스 인덱스)\n",
    "    num_rows = len(int_labels)\n",
    "    num_cols = int_labels.max() + 1\n",
    "\n",
    "    onehot = np.zeros((num_rows, num_cols), dtype=np.uint8)\n",
    "    onehot[np.arange(num_rows), int_labels] = 1\n",
    "\n",
    "    # 출력 값 예시:\n",
    "    # [[0 0 0 0 0 0 0 1 0 0]  # 7\n",
    "    # [0 0 1 0 0 0 0 0 0 0]  # 2\n",
    "    # [0 1 0 0 0 0 0 0 0 0]  # 1\n",
    "    # [1 0 0 0 0 0 0 0 0 0]  # 0\n",
    "    # [0 0 0 0 1 0 0 0 0 0]  # 4\n",
    "    # ...]\n",
    "    return onehot\n",
    "\n",
    "\n",
    "def convert_label_gz_to_ndarray(label_zip_path: Path) -> np.ndarray[np.ndarray[np.int8]]:\n",
    "    with gzip.open(label_zip_path) as f:\n",
    "        labels = np.frombuffer(f.read(), \"B\", offset=8)\n",
    "    return encoding_as_onehot(labels)"
   ]
  },
  {
   "cell_type": "code",
   "execution_count": 8,
   "id": "671c3f5b7eb85756",
   "metadata": {
    "ExecuteTime": {
     "end_time": "2025-06-19T13:15:55.388584Z",
     "start_time": "2025-06-19T13:15:55.385989Z"
    }
   },
   "outputs": [],
   "source": [
    "# 학습 및 테스트 라벨을 numpy 행렬로 변환 및 전처리\n",
    "y_train = convert_label_gz_to_ndarray(DATASET_DIR / KEY_FILES[\"train_label\"])\n",
    "y_test = convert_label_gz_to_ndarray(DATASET_DIR / KEY_FILES[\"test_label\"])"
   ]
  },
  {
   "cell_type": "code",
   "execution_count": 9,
   "id": "1b74d6fce2f0effb",
   "metadata": {
    "ExecuteTime": {
     "end_time": "2025-06-19T13:15:55.397613Z",
     "start_time": "2025-06-19T13:15:55.395968Z"
    }
   },
   "outputs": [
    {
     "name": "stdout",
     "output_type": "stream",
     "text": [
      "x_train shape: (60000, 784)\n",
      "y_train shape: (60000, 10)\n",
      "x_test shape: (10000, 784)\n",
      "y_test shape: (10000, 10)\n"
     ]
    }
   ],
   "source": [
    "print(\"x_train shape:\", x_train.shape)\n",
    "print(\"y_train shape:\", y_train.shape)\n",
    "print(\"x_test shape:\", x_test.shape)\n",
    "print(\"y_test shape:\", y_test.shape)"
   ]
  },
  {
   "cell_type": "markdown",
   "id": "71d1999352bfed5a",
   "metadata": {},
   "source": "### MNIST 샘플 살펴보기"
  },
  {
   "cell_type": "code",
   "execution_count": 10,
   "id": "2bc6b983b0cdc5f9",
   "metadata": {
    "ExecuteTime": {
     "end_time": "2025-06-19T13:15:55.848486Z",
     "start_time": "2025-06-19T13:15:55.406772Z"
    }
   },
   "outputs": [
    {
     "data": {
      "image/png": "[encoded data removed]",
      "text/plain": [
       "<Figure size 1000x1000 with 16 Axes>"
      ]
     },
     "metadata": {},
     "output_type": "display_data"
    }
   ],
   "source": [
    "import matplotlib.pyplot as plt\n",
    "\n",
    "\n",
    "plt.figure(figsize=(10, 10))\n",
    "\n",
    "# 랜덤한 16개의 index\n",
    "indices = np.random.randint(0, len(x_train), size=16)\n",
    "for n, idx in enumerate(indices, start=1):\n",
    "    plt.subplot(4, 4, n)\n",
    "    plt.imshow(x_train[idx].reshape(28, 28), cmap=\"gray\")\n",
    "    plt.title(f\"label: {y_train[idx].argmax()}\")\n",
    "    plt.axis(\"off\")\n",
    "\n",
    "plt.suptitle(\"MNIST Sample Data\")\n",
    "plt.tight_layout()\n",
    "plt.show()"
   ]
  },
  {
   "cell_type": "markdown",
   "id": "c07fc9ca29ed4fe2",
   "metadata": {},
   "source": [
    "## 다층 퍼셉트론(Multi-Layer Perceptron, MLP)\n",
    "\n",
    "![MNIST MLP](../docs/img/20250619/simple_mnist_mlp.png)"
   ]
  },
  {
   "cell_type": "markdown",
   "id": "33d61c5998f1e625",
   "metadata": {},
   "source": [
    "### 활성화 함수 구현\n",
    "\n",
    "- sigmoid\n",
    "\n",
    "$$\n",
    "\\sigma(x) = \\frac{1}{1 + e^{-x}}\n",
    "$$\n",
    "\n",
    "- sigmoid 의 미분 공식\n",
    "\n",
    "$$\n",
    "\\frac{d\\sigma(x)}{dx} = \\sigma(x) \\cdot (1 - \\sigma(x))\n",
    "$$"
   ]
  },
  {
   "cell_type": "code",
   "execution_count": 11,
   "id": "947ea40e5da26c68",
   "metadata": {
    "ExecuteTime": {
     "end_time": "2025-06-19T13:15:55.858769Z",
     "start_time": "2025-06-19T13:15:55.856746Z"
    }
   },
   "outputs": [],
   "source": [
    "# 위 수식을 python 함수로 표현하면 아래와 같음\n",
    "\n",
    "\n",
    "def sigmoid(x: np.ndarray) -> np.ndarray:\n",
    "    return 1.0 / (1.0 + np.exp(-x))\n",
    "\n",
    "\n",
    "def sigmoid_prime(x: np.ndarray) -> np.ndarray:\n",
    "    return (1.0 - sigmoid(x)) * sigmoid(x)"
   ]
  },
  {
   "cell_type": "markdown",
   "id": "67432437127f5892",
   "metadata": {},
   "source": [
    "### sigmoid layer 구현\n",
    "\n",
    "- 순전파의 계산 그래프\n",
    "\n",
    "![순전파 계산 그래프](../docs/img/20250619/computational_graph_forward.png)\n",
    "\n",
    "- 역전파의 계산 그래프\n",
    "\n",
    "![역전파 계산 그래프](../docs/img/20250619/computational_graph_backward.png)"
   ]
  },
  {
   "cell_type": "code",
   "execution_count": 12,
   "id": "8a0b4c9293b9d7eb",
   "metadata": {
    "ExecuteTime": {
     "end_time": "2025-06-19T13:15:55.869494Z",
     "start_time": "2025-06-19T13:15:55.867609Z"
    }
   },
   "outputs": [],
   "source": [
    "class SigmoidLayer:\n",
    "    def __init__(self):\n",
    "        self.out: np.ndarray | None = None\n",
    "\n",
    "    def forward(self, x: np.ndarray) -> np.ndarray:\n",
    "        self.out = 1.0 / (1.0 + np.exp(-x))\n",
    "        return self.out\n",
    "\n",
    "    def backward(self, dout: np.ndarray) -> np.ndarray:\n",
    "        return dout * (1.0 - self.out) * self.out  # dx"
   ]
  },
  {
   "cell_type": "markdown",
   "id": "97b786fe4c1944da",
   "metadata": {},
   "source": [
    "- SigmoidLayer 테스트\n",
    "    - 임의의 사이즈에 대해 모두 동일한 크기의 결과가 출력되어야 하며, 각각 단순하게 시그모이드 함수를 적용한 값과 도함수를 적용한 값이 된다면 성공"
   ]
  },
  {
   "cell_type": "code",
   "execution_count": 13,
   "id": "f3078602b27321f0",
   "metadata": {
    "ExecuteTime": {
     "end_time": "2025-06-19T13:15:55.879650Z",
     "start_time": "2025-06-19T13:15:55.877445Z"
    }
   },
   "outputs": [
    {
     "data": {
      "text/plain": [
       "array([[-0.46947439,  0.54256004],\n",
       "       [-0.46341769, -0.46572975],\n",
       "       [ 0.24196227, -1.91328024],\n",
       "       [-1.72491783, -0.56228753],\n",
       "       [-1.01283112,  0.31424733]])"
      ]
     },
     "execution_count": 13,
     "metadata": {},
     "output_type": "execute_result"
    }
   ],
   "source": [
    "x_input = np.random.randn(5, 2)  # 표준 정규 분포에서 (5, 2) 형태를 반환\n",
    "x_input"
   ]
  },
  {
   "cell_type": "code",
   "execution_count": 14,
   "id": "db314fb519b53f98",
   "metadata": {
    "ExecuteTime": {
     "end_time": "2025-06-19T13:15:56.092928Z",
     "start_time": "2025-06-19T13:15:56.090639Z"
    }
   },
   "outputs": [
    {
     "data": {
      "text/plain": [
       "array([[0.38474066, 0.63240775],\n",
       "       [0.38617537, 0.38562745],\n",
       "       [0.56019716, 0.12861278],\n",
       "       [0.1512388 , 0.36301833],\n",
       "       [0.26642616, 0.57792165]])"
      ]
     },
     "execution_count": 14,
     "metadata": {},
     "output_type": "execute_result"
    }
   ],
   "source": [
    "sigmoid_layer = SigmoidLayer()\n",
    "sigmoid_layer.forward(x_input)"
   ]
  },
  {
   "cell_type": "code",
   "execution_count": 15,
   "id": "e663a8120a964395",
   "metadata": {
    "ExecuteTime": {
     "end_time": "2025-06-19T13:15:56.177133Z",
     "start_time": "2025-06-19T13:15:56.174985Z"
    }
   },
   "outputs": [
    {
     "data": {
      "text/plain": [
       "array([[0.23671528, 0.23246819],\n",
       "       [0.23704395, 0.23691892],\n",
       "       [0.2463763 , 0.11207153],\n",
       "       [0.12836563, 0.23123602],\n",
       "       [0.19544326, 0.24392822]])"
      ]
     },
     "execution_count": 15,
     "metadata": {},
     "output_type": "execute_result"
    }
   ],
   "source": [
    "# 최종 출력물의 미분값이 1일 경우 역전파의 결과\n",
    "sigmoid_layer.backward(1)"
   ]
  },
  {
   "cell_type": "markdown",
   "id": "7545428fc6e6a6e7",
   "metadata": {},
   "source": [
    "### MLP Layer 구현\n",
    "\n",
    "- Fully Connected Layer 를 구현"
   ]
  },
  {
   "cell_type": "code",
   "execution_count": 16,
   "id": "95a5ccd9a4742bc3",
   "metadata": {
    "ExecuteTime": {
     "end_time": "2025-06-19T13:15:56.236045Z",
     "start_time": "2025-06-19T13:15:56.232955Z"
    }
   },
   "outputs": [],
   "source": [
    "class FCLayer:\n",
    "    def __init__(self, input_size: int | float, output_size: int | float):\n",
    "        \"\"\"\n",
    "        :param input_size: 입력 데이터의 차원 수\n",
    "        :param output_size: 출력 데이터의 차원 수\n",
    "        \"\"\"\n",
    "\n",
    "        # 가중치는 정규 분포를 따르는 난수로 초기화\n",
    "        self.w = np.random.randn(input_size, output_size)\n",
    "        # 편향 역시 정규 분포를 따르는 난수로 초기화\n",
    "        self.b = np.random.randn(output_size)\n",
    "\n",
    "        self.x: np.ndarray | None = None  # 역전파 계산을 위해 입력 데이터 저장\n",
    "\n",
    "        # 모델 학습을 위해 저장할 데이터\n",
    "        self.dw: np.ndarray | None = None  # 가중치의 그래디언트\n",
    "        self.db: np.ndarray | None = None  # 편향의 그래디언트\n",
    "\n",
    "    def forward(self, x: np.ndarray) -> np.ndarray:\n",
    "        self.x = x\n",
    "        return np.dot(self.x, self.w) + self.b\n",
    "\n",
    "    def backward(self, dout: np.ndarray) -> np.ndarray:\n",
    "        # 여기서 dL/dy 는 출력에 대한 손실 함수의 그래디언트로, dout 이 이에 해당\n",
    "\n",
    "        # 학습시에 self.w 와 self.b 의 값을 변경할 때, self.dw 와 self.db 를 사용함\n",
    "        # w = w - learning_rate * dw\n",
    "        # b = b - learning_rate * db\n",
    "\n",
    "        # dw = dL/dw = dL/dy · dy/dw = dout · x^T\n",
    "        self.dw = np.dot(self.x.T, dout)\n",
    "        # db = dL/db = dL/dy · dy/db = dout · 1 = dout\n",
    "        self.db = np.sum(dout, axis=0)  # 이는 dout 을 배치 차원(axis=0)에 대해 합산한 것\n",
    "\n",
    "        # dx = dL/dx = dL/dy · dy/dx = dout · w^T\n",
    "        return np.dot(dout, self.w.T)"
   ]
  },
  {
   "cell_type": "markdown",
   "id": "d884b2f071f44ede",
   "metadata": {},
   "source": "- FCLayer 테스트"
  },
  {
   "cell_type": "code",
   "execution_count": 17,
   "id": "b32065a3a74929dc",
   "metadata": {
    "ExecuteTime": {
     "end_time": "2025-06-19T13:15:56.268534Z",
     "start_time": "2025-06-19T13:15:56.266260Z"
    }
   },
   "outputs": [
    {
     "name": "stdout",
     "output_type": "stream",
     "text": [
      "input_x:\n",
      "[[-0.90802408 -1.4123037 ]\n",
      " [ 1.46564877 -0.2257763 ]\n",
      " [ 0.0675282  -1.42474819]\n",
      " [-0.54438272  0.11092259]\n",
      " [-1.15099358  0.37569802]]\n",
      "\n",
      "output_y:\n",
      "[[-0.60063869 -0.29169375 -0.60170661]\n",
      " [ 1.85227818 -0.01349722 -1.05771093]\n",
      " [ 0.82254491 -1.22084365  0.2088636 ]\n",
      " [-1.95967012 -1.32818605  0.19686124]\n",
      " [ 0.73846658  0.17136828 -0.11564828]]\n"
     ]
    }
   ],
   "source": [
    "# batch size 가 5\n",
    "input_x = np.random.randn(5, 2)  # 표준 정규 분포를 따르는 (5, 2) 형태의 ndarray\n",
    "print(\"input_x:\")\n",
    "print(input_x)\n",
    "\n",
    "output_y = np.random.randn(5, 3)  # 표준 정규 분포를 따르는 (5, 3) 형태의 ndarray\n",
    "print()\n",
    "print(\"output_y:\")\n",
    "print(output_y)"
   ]
  },
  {
   "cell_type": "code",
   "execution_count": 18,
   "id": "b09e694a967adfb1",
   "metadata": {
    "ExecuteTime": {
     "end_time": "2025-06-19T13:15:56.286441Z",
     "start_time": "2025-06-19T13:15:56.284305Z"
    }
   },
   "outputs": [
    {
     "name": "stdout",
     "output_type": "stream",
     "text": [
      "forward:\n",
      "[[-0.83906891  0.1736399  -0.21673979]\n",
      " [-2.1003511  -2.08158311 -1.51770192]\n",
      " [-1.12707889 -1.28189094 -0.9232616 ]\n",
      " [-1.65021975  1.24622453  0.0449035 ]\n",
      " [-1.58953281  2.42301201  0.57255049]]\n",
      "\n",
      "backward:\n",
      "[[ 1.04526517 -0.23843588]\n",
      " [ 0.22361522 -1.23094818]\n",
      " [ 1.40702362 -1.59770768]\n",
      " [ 2.41210678 -0.43370983]\n",
      " [-0.39247804 -0.19874798]]\n"
     ]
    }
   ],
   "source": [
    "fc_layer = FCLayer(input_size=2, output_size=3)\n",
    "print(\"forward:\")\n",
    "print(fc_layer.forward(input_x))\n",
    "print()\n",
    "print(\"backward:\")\n",
    "print(fc_layer.backward(output_y))"
   ]
  },
  {
   "cell_type": "markdown",
   "id": "5859be2d5e2e98de",
   "metadata": {},
   "source": [
    "### 손실 함수 구현\n",
    "\n",
    "- Mean Square Error 구현하기\n",
    "- MSE 수식\n",
    "\n",
    "$$\n",
    "L_{MSE}(y,\\hat{y}) = \\frac{1}{n}\\sum_{i=1}^n(y_i - \\hat{y}_i)^2\n",
    "$$\n",
    "\n",
    "- MSE 미분식\n",
    "\n",
    "$$\n",
    "\\frac{dL}{d\\hat y} = \\frac{2}{n}\\sum_{i=1}^n \\left(\\hat{y}_i - y\\right)\n",
    "$$"
   ]
  },
  {
   "cell_type": "code",
   "execution_count": 19,
   "id": "caaacf5f305b83a7",
   "metadata": {
    "ExecuteTime": {
     "end_time": "2025-06-19T13:15:56.309228Z",
     "start_time": "2025-06-19T13:15:56.306939Z"
    }
   },
   "outputs": [],
   "source": [
    "class MSELoss:\n",
    "    def __init__(self):\n",
    "        self.loss: np.ndarray | None = None  # 손실 함수 값. 역전파 계산을 위해서 저장\n",
    "        self.y: np.ndarray | None = None  # 추론값\n",
    "        self.t: np.ndarray | None = None  # 실제값(target)\n",
    "\n",
    "    def forward(self, y: np.ndarray, t: np.ndarray) -> np.ndarray:\n",
    "        # L = 1 / N * sum((y - t)^2)\n",
    "        self.y = y\n",
    "        self.t = t\n",
    "        self.loss = np.mean((y - t) ** 2)\n",
    "        return self.loss\n",
    "\n",
    "    def backward(self, dout=1):\n",
    "        # MSE를 y에 대해 미분: dL/dy = 2(y - t)/N\n",
    "        # 연쇄 법칙 적용: dy = dout * dL/dy = dout * 2(y - t)/N\n",
    "        return dout * (self.y - self.t) * 2 / self.t.shape[0]  # dy"
   ]
  },
  {
   "cell_type": "markdown",
   "id": "2cb79490647cf757",
   "metadata": {},
   "source": [
    "##### backward 부연설명\n",
    "\n",
    "이 메서드는 손실 함수의 그래디언트를 계산\n",
    "\n",
    "1. `dout`은 이 계층의 출력(손실 값)에 대한 그래디언트. 일반적으로 최종 출력 계층에서는 1로 설정(기본값)\n",
    "2. MSE 손실 함수를 예측값 `y`에 대해 미분하면,\n",
    "\n",
    "$$\n",
    "\\frac{\\partial L}{\\partial y_i} = \\frac{2(y_i - t_i)}{N}\n",
    "$$\n",
    "\n",
    "이 공식은 다음과 같이 도출된다.\n",
    "- MSE\n",
    "\n",
    "$$\n",
    "L = \\frac{1}{N} \\sum_{i=1}^{N} (y_i - t_i)^2\n",
    "$$\n",
    "\n",
    "\n",
    "- 미분\n",
    "\n",
    "$$\n",
    "\\frac{\\partial L}{\\partial y_i} = \\frac{1}{N} \\cdot 2(y_i - t_i) = \\frac{2(y_i - t_i)}{N}\n",
    "$$\n",
    "\n",
    "\n",
    "3. 코드에서 `self.t.shape[0]`는 배치 크기 N을 나타낸다.\n",
    "4. 최종적으로 계산된 그래디언트 `dx`를 반환하여 이전 계층으로 전파한다.\n",
    "\n",
    "**연쇄 법칙의 적용**\n",
    "\n",
    "역전파 메서드에서는 연쇄 법칙이 적용된다.\n",
    "\n",
    "- `dx = dout * (2(y - t) / N)`\n",
    "\n",
    "이는 다음 수식을 의미합니다.\n",
    "\n",
    "$$\n",
    "\\frac{\\partial L_{total}}{\\partial y} = \\frac{\\partial L_{total}}{\\partial L_{MSE}} \\cdot \\frac{\\partial L_{MSE}}{\\partial y} = dout \\cdot \\frac{2(y - t)}{N}\n",
    "$$\n",
    "\n",
    "여기서,\n",
    "- $\\frac{\\partial L_{total}}{\\partial L_{MSE}}$ 는 `dout`에 해당한다. (일반적으로 1)\n",
    "- $\\frac{\\partial L_{MSE}}{\\partial y}$ 는 MSE를 y에 대해 미분한 값 $\\frac{2(y - t)}{N}$ 이다."
   ]
  },
  {
   "cell_type": "markdown",
   "id": "7baa9cb9a4f46e4",
   "metadata": {},
   "source": [
    "- 교차 엔트로피(Cross Entropy) 구현하기\n",
    "- 수식\n",
    "\n",
    "$$\n",
    " L(y,\\hat{y}) = \\frac{-1}{n}\\sum_{i=1}^n y_i\\log(\\hat{y}_i)+(1-y_i)(\\log(1-\\hat{y}_i)\n",
    "$$\n",
    "\n",
    "- 미분식\n",
    "\n",
    "$$\n",
    "\\frac{dL}{d\\hat y} = \\frac{-1}{n}\\left(\\frac{y_i}{\\hat{y}_i} - \\frac{1-y_i}{1 - \\hat{y}_i}\\right) = \\frac{\\hat{y}_i-y_i}{n(1-\\hat{y}_i)\\hat{y}_i}\n",
    "$$"
   ]
  },
  {
   "cell_type": "code",
   "execution_count": 20,
   "id": "61e46276a2572fbd",
   "metadata": {
    "ExecuteTime": {
     "end_time": "2025-06-19T13:15:56.339418Z",
     "start_time": "2025-06-19T13:15:56.336862Z"
    }
   },
   "outputs": [],
   "source": [
    "class CrossEntropyLoss:\n",
    "    def __init__(self):\n",
    "        self.loss: np.ndarray | None = None\n",
    "        self.y: np.ndarray | None = None\n",
    "        self.t: np.ndarray | None = None\n",
    "\n",
    "    def forward(self, y: np.ndarray, t: np.ndarray) -> np.ndarray:\n",
    "        self.y = y\n",
    "        self.t = t\n",
    "        self.loss = -np.sum(t * np.log(y + 1e-7) + (1 - t) * np.log(1 - y + 1e-7)) / y.shape[0]\n",
    "        return self.loss\n",
    "\n",
    "    def backward(self, dout=1) -> np.ndarray:\n",
    "        # dL/dy = -t / y + (1 - t) / (1 - y) = (y - t) / ((1 - y)y)\n",
    "        return dout * (self.y - self.t) / ((1 - self.y) * self.y + 1e-7) / self.y.shape[0]"
   ]
  },
  {
   "cell_type": "markdown",
   "id": "cbf345802dbde619",
   "metadata": {},
   "source": [
    "### MLP 구현\n",
    "\n",
    "![MNIST MLP](../docs/img/20250619/simple_mnist_mlp.png)"
   ]
  },
  {
   "cell_type": "code",
   "execution_count": 21,
   "id": "27e65651d6354406",
   "metadata": {
    "ExecuteTime": {
     "end_time": "2025-06-19T13:15:56.353276Z",
     "start_time": "2025-06-19T13:15:56.349406Z"
    }
   },
   "outputs": [],
   "source": [
    "class MLP:\n",
    "    def __init__(\n",
    "        self,\n",
    "        input_size: int | float,\n",
    "        hidden_size_list: list[int | float],\n",
    "        output_size: int | float,\n",
    "        loss_type: str = \"MSE\",\n",
    "    ):\n",
    "        # 여기서 모델의 구조를 정하는 것\n",
    "        self.input_size = input_size\n",
    "        self.hidden_size_list = hidden_size_list\n",
    "        self.hidden_layer_size = len(self.hidden_size_list)\n",
    "        self.output_size = output_size\n",
    "        self.loss_type = loss_type\n",
    "\n",
    "        # 레이어 쌓기\n",
    "\n",
    "        # 1. 입력층\n",
    "        self.layers = [\n",
    "            FCLayer(self.input_size, self.hidden_size_list[0]),\n",
    "            SigmoidLayer(),\n",
    "        ]\n",
    "\n",
    "        # 2. 은닉층\n",
    "        for i in range(1, self.hidden_layer_size):\n",
    "            self.layers.append(FCLayer(self.hidden_size_list[i - 1], self.hidden_size_list[i]))\n",
    "            self.layers.append(SigmoidLayer())\n",
    "\n",
    "        # 3. 출력층\n",
    "        self.layers.append(FCLayer(self.hidden_size_list[-1], self.output_size))\n",
    "        self.layers.append(SigmoidLayer())\n",
    "\n",
    "        # 손실 함수 레이어 설정\n",
    "        if self.loss_type == \"MSE\":\n",
    "            self.loss_layer = MSELoss()\n",
    "        elif self.loss_type == \"CrossEntropy\":\n",
    "            self.loss_layer = CrossEntropyLoss()\n",
    "\n",
    "        self.loss: np.ndarray | None = None\n",
    "\n",
    "    def predict(self, x: np.ndarray) -> np.ndarray:\n",
    "        for layer in self.layers:\n",
    "            x = layer.forward(x)\n",
    "        return x\n",
    "\n",
    "    def forward(self, x: np.ndarray, t: np.ndarray) -> np.ndarray:\n",
    "        y = self.predict(x)\n",
    "        self.loss = self.loss_layer.forward(y, t)\n",
    "        return self.loss\n",
    "\n",
    "    def backward(self, dout=1) -> np.ndarray:\n",
    "        dout = self.loss_layer.backward(dout)\n",
    "        for layer in reversed(self.layers):\n",
    "            dout = layer.backward(dout)\n",
    "        return dout"
   ]
  },
  {
   "cell_type": "markdown",
   "id": "250b94a9a41e4c53",
   "metadata": {},
   "source": "- MLP 모델 테스트하기"
  },
  {
   "cell_type": "code",
   "execution_count": 22,
   "id": "fb2f7d5d9601b3c3",
   "metadata": {
    "ExecuteTime": {
     "end_time": "2025-06-19T13:15:56.364659Z",
     "start_time": "2025-06-19T13:15:56.361850Z"
    }
   },
   "outputs": [
    {
     "name": "stdout",
     "output_type": "stream",
     "text": [
      "predict:\n",
      "[[0.61866577]\n",
      " [0.67589295]\n",
      " [0.68764321]\n",
      " [0.6461187 ]\n",
      " [0.69268993]]\n",
      "forward:\n",
      "1.5170037025138228\n",
      "backward:\n",
      "[[ 0.02611226 -0.03983601]\n",
      " [ 0.02674919 -0.06219475]\n",
      " [-0.00143814  0.00437836]\n",
      " [-0.0115444   0.01842142]\n",
      " [ 0.0189616  -0.02745467]]\n"
     ]
    }
   ],
   "source": [
    "input_x = np.random.randn(5, 2)\n",
    "input_y = np.random.randn(5, 1)\n",
    "\n",
    "mlp = MLP(input_size=2, hidden_size_list=[10, 5], output_size=1, loss_type=\"MSE\")\n",
    "print(\"predict:\")\n",
    "print(mlp.predict(input_x))\n",
    "print(\"forward:\")\n",
    "print(mlp.forward(input_x, input_y))\n",
    "print(\"backward:\")\n",
    "print(mlp.backward())"
   ]
  },
  {
   "cell_type": "markdown",
   "id": "d7adf575f19d548e",
   "metadata": {},
   "source": "## 모델 학습하기"
  },
  {
   "cell_type": "markdown",
   "id": "d7fd954390400b32",
   "metadata": {},
   "source": "### 정확도 함수 구현"
  },
  {
   "cell_type": "code",
   "execution_count": 23,
   "id": "6e6487e8279e2275",
   "metadata": {
    "ExecuteTime": {
     "end_time": "2025-06-19T13:15:56.377248Z",
     "start_time": "2025-06-19T13:15:56.375215Z"
    }
   },
   "outputs": [],
   "source": [
    "def accuracy(preds: np.ndarray, target: np.ndarray) -> float:\n",
    "    # one-hot 인코딩이 되어 있는 값을 다시 라벨로 바꾸어 비교\n",
    "    y = np.argmax(preds, axis=1)\n",
    "    t = np.argmax(target, axis=1)\n",
    "    return np.sum(t == y) / float(t.shape[0])"
   ]
  },
  {
   "cell_type": "markdown",
   "id": "20fdb980e342be61",
   "metadata": {},
   "source": [
    "### 하이퍼파라미터 설정\n",
    "\n",
    "**학습률 설정**\n",
    "\n",
    "- MSE 손실 함수는 vanishing gradient 문제가 생길 수 있으므로 **CE 의 학습률보다 더 큰 값의 학습률을 설정**해주었다.\n",
    "- 즉, 이전 강의에서 살펴본 바와 같이, 동일한 학습률을 사용한다면 CE의 학습이 MSE보다 훨씬 빠를 것이다.\n",
    "- MNIST 데이터셋의 경우 학습이 쉬운 데이터셋이기에 본 실습에서는 빠른 학습을 위해 큰 값으로 정하였으나,\n",
    "- 일반적으로 학습률은 소수점 단위(0.01 ~ 0.000001)로 설정되는 매우 작은 값이다."
   ]
  },
  {
   "cell_type": "code",
   "execution_count": 24,
   "id": "21f9fd3dc35935bc",
   "metadata": {
    "ExecuteTime": {
     "end_time": "2025-06-19T13:15:56.390532Z",
     "start_time": "2025-06-19T13:15:56.388788Z"
    }
   },
   "outputs": [],
   "source": [
    "# 네트워크 구조를 정하기 위한 하이퍼파라미터(784 > 64 -> 16 -> 10)\n",
    "n_input = 784\n",
    "n_hidden = (\n",
    "    64,\n",
    "    16,\n",
    ")\n",
    "n_output = 10\n",
    "\n",
    "# 학습에 필요한 하이퍼파라미터\n",
    "batch_size = 128\n",
    "n_epochs = 30\n",
    "print_every = 1\n",
    "learning_rate_mse = 3\n",
    "learning_rate_ce = 0.5"
   ]
  },
  {
   "cell_type": "markdown",
   "id": "9ce0231ea4c61a99",
   "metadata": {},
   "source": "### 모델 생성"
  },
  {
   "cell_type": "code",
   "execution_count": 25,
   "id": "f22a35fbe678ab78",
   "metadata": {
    "ExecuteTime": {
     "end_time": "2025-06-19T13:15:56.402710Z",
     "start_time": "2025-06-19T13:15:56.399842Z"
    }
   },
   "outputs": [],
   "source": [
    "mlp_w_mse = MLP(n_input, n_hidden, n_output, loss_type=\"MSE\")\n",
    "mlp_w_ce = MLP(n_input, n_hidden, n_output, loss_type=\"CrossEntropy\")"
   ]
  },
  {
   "cell_type": "markdown",
   "id": "ce77ea1543c8b851",
   "metadata": {},
   "source": "### 학습 구현"
  },
  {
   "cell_type": "code",
   "execution_count": 26,
   "id": "206da9440a9e1478",
   "metadata": {
    "ExecuteTime": {
     "end_time": "2025-06-19T13:15:56.430325Z",
     "start_time": "2025-06-19T13:15:56.420041Z"
    }
   },
   "outputs": [],
   "source": [
    "from tqdm import tqdm\n",
    "\n",
    "\n",
    "def train(\n",
    "    model: MLP,\n",
    "    learning_rate: float,\n",
    "    data: tuple[np.ndarray, np.ndarray, np.ndarray, np.ndarray],\n",
    ") -> np.ndarray:\n",
    "    total_train_x, total_train_y, total_test_x, total_test_y = data\n",
    "\n",
    "    training_errors, training_accuracies = [], []\n",
    "    test_errors, test_accuracies = [], []\n",
    "\n",
    "    for epoch in tqdm(range(n_epochs)):\n",
    "        shuffled_idx = np.random.permutation(total_train_x.shape[0])\n",
    "        train_x = total_train_x[shuffled_idx]\n",
    "        train_y = total_train_y[shuffled_idx]\n",
    "\n",
    "        for i in range(0, total_train_x.shape[0], batch_size):\n",
    "            batch_x = train_x[i : i + batch_size]\n",
    "            batch_y = train_y[i : i + batch_size]\n",
    "\n",
    "            # 순전파\n",
    "            model.forward(batch_x, batch_y)\n",
    "\n",
    "            # 역전파\n",
    "            model.backward()\n",
    "\n",
    "            # 모델의 파라미터 업데이트\n",
    "            for layer in model.layers:\n",
    "                if isinstance(layer, FCLayer):\n",
    "                    layer.w = layer.w - learning_rate * layer.dw\n",
    "                    layer.b = layer.b - learning_rate * layer.db\n",
    "        # 학습 과정 출력\n",
    "        if (epoch + 1) % print_every == 0:\n",
    "            # 모든 학습 데이터에 대한 손실과 정확도 계산\n",
    "            model.forward(train_x, train_y)\n",
    "            training_errors.append(model.loss)\n",
    "            training_accuracies.append(accuracy(model.predict(train_x), train_y))\n",
    "\n",
    "            model.forward(total_test_x, total_test_y)\n",
    "            test_errors.append(model.loss)\n",
    "            test_accuracies.append(accuracy(model.predict(total_test_x), total_test_y))\n",
    "\n",
    "            print(\n",
    "                f\"[Epoch {epoch + 1}/{n_epochs}]\",\n",
    "                f\"Train loss: {training_errors[-1]:.3f}\",\n",
    "                \"|\",\n",
    "                f\"Train accuracy: {training_accuracies[-1] * 100:.3f}\",\n",
    "                \"|\",\n",
    "                f\"Test loss: {test_errors[-1]:.3f}\",\n",
    "                \"|\",\n",
    "                f\"Test accuracy: {test_accuracies[-1] * 100:.3f}\",\n",
    "            )\n",
    "    return np.asarray([training_errors, training_accuracies, test_errors, test_accuracies])"
   ]
  },
  {
   "cell_type": "code",
   "execution_count": 27,
   "id": "183f0d3f680498b6",
   "metadata": {
    "ExecuteTime": {
     "end_time": "2025-06-19T13:15:56.446904Z",
     "start_time": "2025-06-19T13:15:56.444356Z"
    }
   },
   "outputs": [],
   "source": [
    "dataset = (x_train, y_train, x_test, y_test)"
   ]
  },
  {
   "cell_type": "code",
   "execution_count": 28,
   "id": "470694e48d4f3324",
   "metadata": {
    "ExecuteTime": {
     "end_time": "2025-06-19T13:16:07.732073Z",
     "start_time": "2025-06-19T13:15:56.479019Z"
    }
   },
   "outputs": [
    {
     "name": "stderr",
     "output_type": "stream",
     "text": [
      "  3%|▎         | 1/30 [00:00<00:11,  2.49it/s]"
     ]
    },
    {
     "name": "stdout",
     "output_type": "stream",
     "text": [
      "[Epoch 1/30] Train loss: 0.030 | Train accuracy: 81.652 | Test loss: 0.030 | Test accuracy: 81.960\n"
     ]
    },
    {
     "name": "stderr",
     "output_type": "stream",
     "text": [
      "  7%|▋         | 2/30 [00:00<00:10,  2.68it/s]"
     ]
    },
    {
     "name": "stdout",
     "output_type": "stream",
     "text": [
      "[Epoch 2/30] Train loss: 0.019 | Train accuracy: 88.333 | Test loss: 0.019 | Test accuracy: 87.820\n"
     ]
    },
    {
     "name": "stderr",
     "output_type": "stream",
     "text": [
      " 10%|█         | 3/30 [00:01<00:10,  2.64it/s]"
     ]
    },
    {
     "name": "stdout",
     "output_type": "stream",
     "text": [
      "[Epoch 3/30] Train loss: 0.016 | Train accuracy: 90.082 | Test loss: 0.017 | Test accuracy: 89.750\n"
     ]
    },
    {
     "name": "stderr",
     "output_type": "stream",
     "text": [
      " 13%|█▎        | 4/30 [00:01<00:09,  2.63it/s]"
     ]
    },
    {
     "name": "stdout",
     "output_type": "stream",
     "text": [
      "[Epoch 4/30] Train loss: 0.013 | Train accuracy: 91.955 | Test loss: 0.014 | Test accuracy: 90.950\n"
     ]
    },
    {
     "name": "stderr",
     "output_type": "stream",
     "text": [
      " 17%|█▋        | 5/30 [00:01<00:09,  2.62it/s]"
     ]
    },
    {
     "name": "stdout",
     "output_type": "stream",
     "text": [
      "[Epoch 5/30] Train loss: 0.012 | Train accuracy: 92.772 | Test loss: 0.013 | Test accuracy: 91.960\n"
     ]
    },
    {
     "name": "stderr",
     "output_type": "stream",
     "text": [
      " 20%|██        | 6/30 [00:02<00:09,  2.65it/s]"
     ]
    },
    {
     "name": "stdout",
     "output_type": "stream",
     "text": [
      "[Epoch 6/30] Train loss: 0.011 | Train accuracy: 93.397 | Test loss: 0.012 | Test accuracy: 92.260\n"
     ]
    },
    {
     "name": "stderr",
     "output_type": "stream",
     "text": [
      " 23%|██▎       | 7/30 [00:02<00:08,  2.66it/s]"
     ]
    },
    {
     "name": "stdout",
     "output_type": "stream",
     "text": [
      "[Epoch 7/30] Train loss: 0.010 | Train accuracy: 93.700 | Test loss: 0.012 | Test accuracy: 92.500\n"
     ]
    },
    {
     "name": "stderr",
     "output_type": "stream",
     "text": [
      " 27%|██▋       | 8/30 [00:03<00:08,  2.66it/s]"
     ]
    },
    {
     "name": "stdout",
     "output_type": "stream",
     "text": [
      "[Epoch 8/30] Train loss: 0.010 | Train accuracy: 94.052 | Test loss: 0.012 | Test accuracy: 92.540\n"
     ]
    },
    {
     "name": "stderr",
     "output_type": "stream",
     "text": [
      " 30%|███       | 9/30 [00:03<00:07,  2.64it/s]"
     ]
    },
    {
     "name": "stdout",
     "output_type": "stream",
     "text": [
      "[Epoch 9/30] Train loss: 0.009 | Train accuracy: 94.655 | Test loss: 0.011 | Test accuracy: 93.020\n"
     ]
    },
    {
     "name": "stderr",
     "output_type": "stream",
     "text": [
      " 33%|███▎      | 10/30 [00:03<00:07,  2.66it/s]"
     ]
    },
    {
     "name": "stdout",
     "output_type": "stream",
     "text": [
      "[Epoch 10/30] Train loss: 0.009 | Train accuracy: 94.773 | Test loss: 0.011 | Test accuracy: 93.340\n"
     ]
    },
    {
     "name": "stderr",
     "output_type": "stream",
     "text": [
      " 37%|███▋      | 11/30 [00:04<00:07,  2.67it/s]"
     ]
    },
    {
     "name": "stdout",
     "output_type": "stream",
     "text": [
      "[Epoch 11/30] Train loss: 0.008 | Train accuracy: 95.238 | Test loss: 0.010 | Test accuracy: 93.390\n"
     ]
    },
    {
     "name": "stderr",
     "output_type": "stream",
     "text": [
      " 40%|████      | 12/30 [00:04<00:06,  2.66it/s]"
     ]
    },
    {
     "name": "stdout",
     "output_type": "stream",
     "text": [
      "[Epoch 12/30] Train loss: 0.008 | Train accuracy: 95.195 | Test loss: 0.010 | Test accuracy: 93.700\n"
     ]
    },
    {
     "name": "stderr",
     "output_type": "stream",
     "text": [
      " 43%|████▎     | 13/30 [00:04<00:06,  2.65it/s]"
     ]
    },
    {
     "name": "stdout",
     "output_type": "stream",
     "text": [
      "[Epoch 13/30] Train loss: 0.007 | Train accuracy: 95.680 | Test loss: 0.010 | Test accuracy: 93.990\n"
     ]
    },
    {
     "name": "stderr",
     "output_type": "stream",
     "text": [
      " 47%|████▋     | 14/30 [00:05<00:05,  2.71it/s]"
     ]
    },
    {
     "name": "stdout",
     "output_type": "stream",
     "text": [
      "[Epoch 14/30] Train loss: 0.007 | Train accuracy: 95.622 | Test loss: 0.010 | Test accuracy: 93.710\n"
     ]
    },
    {
     "name": "stderr",
     "output_type": "stream",
     "text": [
      " 50%|█████     | 15/30 [00:05<00:05,  2.73it/s]"
     ]
    },
    {
     "name": "stdout",
     "output_type": "stream",
     "text": [
      "[Epoch 15/30] Train loss: 0.007 | Train accuracy: 96.050 | Test loss: 0.009 | Test accuracy: 94.110\n"
     ]
    },
    {
     "name": "stderr",
     "output_type": "stream",
     "text": [
      " 53%|█████▎    | 16/30 [00:06<00:05,  2.69it/s]"
     ]
    },
    {
     "name": "stdout",
     "output_type": "stream",
     "text": [
      "[Epoch 16/30] Train loss: 0.007 | Train accuracy: 96.087 | Test loss: 0.009 | Test accuracy: 94.140\n"
     ]
    },
    {
     "name": "stderr",
     "output_type": "stream",
     "text": [
      " 57%|█████▋    | 17/30 [00:06<00:04,  2.65it/s]"
     ]
    },
    {
     "name": "stdout",
     "output_type": "stream",
     "text": [
      "[Epoch 17/30] Train loss: 0.006 | Train accuracy: 96.145 | Test loss: 0.009 | Test accuracy: 94.170\n"
     ]
    },
    {
     "name": "stderr",
     "output_type": "stream",
     "text": [
      " 60%|██████    | 18/30 [00:06<00:04,  2.71it/s]"
     ]
    },
    {
     "name": "stdout",
     "output_type": "stream",
     "text": [
      "[Epoch 18/30] Train loss: 0.006 | Train accuracy: 96.337 | Test loss: 0.009 | Test accuracy: 94.140\n"
     ]
    },
    {
     "name": "stderr",
     "output_type": "stream",
     "text": [
      " 63%|██████▎   | 19/30 [00:07<00:04,  2.71it/s]"
     ]
    },
    {
     "name": "stdout",
     "output_type": "stream",
     "text": [
      "[Epoch 19/30] Train loss: 0.006 | Train accuracy: 96.568 | Test loss: 0.009 | Test accuracy: 94.440\n"
     ]
    },
    {
     "name": "stderr",
     "output_type": "stream",
     "text": [
      " 67%|██████▋   | 20/30 [00:07<00:03,  2.74it/s]"
     ]
    },
    {
     "name": "stdout",
     "output_type": "stream",
     "text": [
      "[Epoch 20/30] Train loss: 0.006 | Train accuracy: 96.742 | Test loss: 0.009 | Test accuracy: 94.460\n"
     ]
    },
    {
     "name": "stderr",
     "output_type": "stream",
     "text": [
      " 70%|███████   | 21/30 [00:07<00:03,  2.74it/s]"
     ]
    },
    {
     "name": "stdout",
     "output_type": "stream",
     "text": [
      "[Epoch 21/30] Train loss: 0.006 | Train accuracy: 96.772 | Test loss: 0.009 | Test accuracy: 94.530\n"
     ]
    },
    {
     "name": "stderr",
     "output_type": "stream",
     "text": [
      " 73%|███████▎  | 22/30 [00:08<00:02,  2.73it/s]"
     ]
    },
    {
     "name": "stdout",
     "output_type": "stream",
     "text": [
      "[Epoch 22/30] Train loss: 0.005 | Train accuracy: 96.922 | Test loss: 0.009 | Test accuracy: 94.280\n"
     ]
    },
    {
     "name": "stderr",
     "output_type": "stream",
     "text": [
      " 77%|███████▋  | 23/30 [00:08<00:02,  2.69it/s]"
     ]
    },
    {
     "name": "stdout",
     "output_type": "stream",
     "text": [
      "[Epoch 23/30] Train loss: 0.005 | Train accuracy: 96.968 | Test loss: 0.009 | Test accuracy: 94.460\n"
     ]
    },
    {
     "name": "stderr",
     "output_type": "stream",
     "text": [
      " 80%|████████  | 24/30 [00:08<00:02,  2.65it/s]"
     ]
    },
    {
     "name": "stdout",
     "output_type": "stream",
     "text": [
      "[Epoch 24/30] Train loss: 0.007 | Train accuracy: 96.112 | Test loss: 0.010 | Test accuracy: 93.900\n"
     ]
    },
    {
     "name": "stderr",
     "output_type": "stream",
     "text": [
      " 83%|████████▎ | 25/30 [00:09<00:01,  2.63it/s]"
     ]
    },
    {
     "name": "stdout",
     "output_type": "stream",
     "text": [
      "[Epoch 25/30] Train loss: 0.005 | Train accuracy: 97.215 | Test loss: 0.008 | Test accuracy: 94.870\n"
     ]
    },
    {
     "name": "stderr",
     "output_type": "stream",
     "text": [
      " 87%|████████▋ | 26/30 [00:09<00:01,  2.67it/s]"
     ]
    },
    {
     "name": "stdout",
     "output_type": "stream",
     "text": [
      "[Epoch 26/30] Train loss: 0.005 | Train accuracy: 97.323 | Test loss: 0.008 | Test accuracy: 94.770\n"
     ]
    },
    {
     "name": "stderr",
     "output_type": "stream",
     "text": [
      " 90%|█████████ | 27/30 [00:10<00:01,  2.69it/s]"
     ]
    },
    {
     "name": "stdout",
     "output_type": "stream",
     "text": [
      "[Epoch 27/30] Train loss: 0.005 | Train accuracy: 97.358 | Test loss: 0.008 | Test accuracy: 94.850\n"
     ]
    },
    {
     "name": "stderr",
     "output_type": "stream",
     "text": [
      " 93%|█████████▎| 28/30 [00:10<00:00,  2.71it/s]"
     ]
    },
    {
     "name": "stdout",
     "output_type": "stream",
     "text": [
      "[Epoch 28/30] Train loss: 0.005 | Train accuracy: 97.382 | Test loss: 0.008 | Test accuracy: 94.840\n"
     ]
    },
    {
     "name": "stderr",
     "output_type": "stream",
     "text": [
      " 97%|█████████▋| 29/30 [00:10<00:00,  2.67it/s]"
     ]
    },
    {
     "name": "stdout",
     "output_type": "stream",
     "text": [
      "[Epoch 29/30] Train loss: 0.004 | Train accuracy: 97.463 | Test loss: 0.008 | Test accuracy: 94.870\n"
     ]
    },
    {
     "name": "stderr",
     "output_type": "stream",
     "text": [
      "100%|██████████| 30/30 [00:11<00:00,  2.67it/s]"
     ]
    },
    {
     "name": "stdout",
     "output_type": "stream",
     "text": [
      "[Epoch 30/30] Train loss: 0.004 | Train accuracy: 97.515 | Test loss: 0.008 | Test accuracy: 94.910\n"
     ]
    },
    {
     "name": "stderr",
     "output_type": "stream",
     "text": [
      "\n"
     ]
    }
   ],
   "source": [
    "# MSE 손실 함수를 사용하는 모델로 학습\n",
    "mse_result = train(mlp_w_mse, learning_rate_mse, data=dataset)"
   ]
  },
  {
   "cell_type": "code",
   "execution_count": 29,
   "id": "d3f88c10a2bfe944",
   "metadata": {
    "ExecuteTime": {
     "end_time": "2025-06-19T13:16:18.968761Z",
     "start_time": "2025-06-19T13:16:07.748544Z"
    }
   },
   "outputs": [
    {
     "name": "stderr",
     "output_type": "stream",
     "text": [
      "  3%|▎         | 1/30 [00:00<00:11,  2.55it/s]"
     ]
    },
    {
     "name": "stdout",
     "output_type": "stream",
     "text": [
      "[Epoch 1/30] Train loss: 1.456 | Train accuracy: 74.253 | Test loss: 1.436 | Test accuracy: 74.730\n"
     ]
    },
    {
     "name": "stderr",
     "output_type": "stream",
     "text": [
      "  7%|▋         | 2/30 [00:00<00:10,  2.69it/s]"
     ]
    },
    {
     "name": "stdout",
     "output_type": "stream",
     "text": [
      "[Epoch 2/30] Train loss: 0.995 | Train accuracy: 84.170 | Test loss: 0.985 | Test accuracy: 84.350\n"
     ]
    },
    {
     "name": "stderr",
     "output_type": "stream",
     "text": [
      " 10%|█         | 3/30 [00:01<00:10,  2.59it/s]"
     ]
    },
    {
     "name": "stdout",
     "output_type": "stream",
     "text": [
      "[Epoch 3/30] Train loss: 0.797 | Train accuracy: 87.545 | Test loss: 0.796 | Test accuracy: 87.910\n"
     ]
    },
    {
     "name": "stderr",
     "output_type": "stream",
     "text": [
      " 13%|█▎        | 4/30 [00:01<00:09,  2.64it/s]"
     ]
    },
    {
     "name": "stdout",
     "output_type": "stream",
     "text": [
      "[Epoch 4/30] Train loss: 0.689 | Train accuracy: 89.333 | Test loss: 0.697 | Test accuracy: 89.180\n"
     ]
    },
    {
     "name": "stderr",
     "output_type": "stream",
     "text": [
      " 17%|█▋        | 5/30 [00:01<00:09,  2.68it/s]"
     ]
    },
    {
     "name": "stdout",
     "output_type": "stream",
     "text": [
      "[Epoch 5/30] Train loss: 0.605 | Train accuracy: 90.613 | Test loss: 0.622 | Test accuracy: 90.220\n"
     ]
    },
    {
     "name": "stderr",
     "output_type": "stream",
     "text": [
      " 20%|██        | 6/30 [00:02<00:08,  2.71it/s]"
     ]
    },
    {
     "name": "stdout",
     "output_type": "stream",
     "text": [
      "[Epoch 6/30] Train loss: 0.566 | Train accuracy: 91.327 | Test loss: 0.591 | Test accuracy: 90.890\n"
     ]
    },
    {
     "name": "stderr",
     "output_type": "stream",
     "text": [
      " 23%|██▎       | 7/30 [00:02<00:08,  2.69it/s]"
     ]
    },
    {
     "name": "stdout",
     "output_type": "stream",
     "text": [
      "[Epoch 7/30] Train loss: 0.513 | Train accuracy: 92.135 | Test loss: 0.550 | Test accuracy: 91.530\n"
     ]
    },
    {
     "name": "stderr",
     "output_type": "stream",
     "text": [
      " 27%|██▋       | 8/30 [00:03<00:08,  2.65it/s]"
     ]
    },
    {
     "name": "stdout",
     "output_type": "stream",
     "text": [
      "[Epoch 8/30] Train loss: 0.478 | Train accuracy: 92.673 | Test loss: 0.521 | Test accuracy: 91.930\n"
     ]
    },
    {
     "name": "stderr",
     "output_type": "stream",
     "text": [
      " 30%|███       | 9/30 [00:03<00:07,  2.67it/s]"
     ]
    },
    {
     "name": "stdout",
     "output_type": "stream",
     "text": [
      "[Epoch 9/30] Train loss: 0.455 | Train accuracy: 93.013 | Test loss: 0.506 | Test accuracy: 92.140\n"
     ]
    },
    {
     "name": "stderr",
     "output_type": "stream",
     "text": [
      " 33%|███▎      | 10/30 [00:03<00:07,  2.68it/s]"
     ]
    },
    {
     "name": "stdout",
     "output_type": "stream",
     "text": [
      "[Epoch 10/30] Train loss: 0.428 | Train accuracy: 93.473 | Test loss: 0.485 | Test accuracy: 92.510\n"
     ]
    },
    {
     "name": "stderr",
     "output_type": "stream",
     "text": [
      " 37%|███▋      | 11/30 [00:04<00:07,  2.70it/s]"
     ]
    },
    {
     "name": "stdout",
     "output_type": "stream",
     "text": [
      "[Epoch 11/30] Train loss: 0.413 | Train accuracy: 93.735 | Test loss: 0.479 | Test accuracy: 92.460\n"
     ]
    },
    {
     "name": "stderr",
     "output_type": "stream",
     "text": [
      " 40%|████      | 12/30 [00:04<00:06,  2.60it/s]"
     ]
    },
    {
     "name": "stdout",
     "output_type": "stream",
     "text": [
      "[Epoch 12/30] Train loss: 0.388 | Train accuracy: 94.145 | Test loss: 0.461 | Test accuracy: 92.940\n"
     ]
    },
    {
     "name": "stderr",
     "output_type": "stream",
     "text": [
      " 43%|████▎     | 13/30 [00:04<00:06,  2.61it/s]"
     ]
    },
    {
     "name": "stdout",
     "output_type": "stream",
     "text": [
      "[Epoch 13/30] Train loss: 0.387 | Train accuracy: 94.085 | Test loss: 0.463 | Test accuracy: 92.890\n"
     ]
    },
    {
     "name": "stderr",
     "output_type": "stream",
     "text": [
      " 47%|████▋     | 14/30 [00:05<00:06,  2.63it/s]"
     ]
    },
    {
     "name": "stdout",
     "output_type": "stream",
     "text": [
      "[Epoch 14/30] Train loss: 0.361 | Train accuracy: 94.547 | Test loss: 0.442 | Test accuracy: 93.110\n"
     ]
    },
    {
     "name": "stderr",
     "output_type": "stream",
     "text": [
      " 50%|█████     | 15/30 [00:05<00:05,  2.58it/s]"
     ]
    },
    {
     "name": "stdout",
     "output_type": "stream",
     "text": [
      "[Epoch 15/30] Train loss: 0.352 | Train accuracy: 94.700 | Test loss: 0.436 | Test accuracy: 93.210\n"
     ]
    },
    {
     "name": "stderr",
     "output_type": "stream",
     "text": [
      " 53%|█████▎    | 16/30 [00:06<00:05,  2.57it/s]"
     ]
    },
    {
     "name": "stdout",
     "output_type": "stream",
     "text": [
      "[Epoch 16/30] Train loss: 0.340 | Train accuracy: 94.857 | Test loss: 0.431 | Test accuracy: 93.310\n"
     ]
    },
    {
     "name": "stderr",
     "output_type": "stream",
     "text": [
      " 57%|█████▋    | 17/30 [00:06<00:04,  2.63it/s]"
     ]
    },
    {
     "name": "stdout",
     "output_type": "stream",
     "text": [
      "[Epoch 17/30] Train loss: 0.330 | Train accuracy: 95.127 | Test loss: 0.424 | Test accuracy: 93.490\n"
     ]
    },
    {
     "name": "stderr",
     "output_type": "stream",
     "text": [
      " 60%|██████    | 18/30 [00:06<00:04,  2.68it/s]"
     ]
    },
    {
     "name": "stdout",
     "output_type": "stream",
     "text": [
      "[Epoch 18/30] Train loss: 0.322 | Train accuracy: 95.182 | Test loss: 0.420 | Test accuracy: 93.400\n"
     ]
    },
    {
     "name": "stderr",
     "output_type": "stream",
     "text": [
      " 63%|██████▎   | 19/30 [00:07<00:04,  2.73it/s]"
     ]
    },
    {
     "name": "stdout",
     "output_type": "stream",
     "text": [
      "[Epoch 19/30] Train loss: 0.304 | Train accuracy: 95.562 | Test loss: 0.406 | Test accuracy: 93.720\n"
     ]
    },
    {
     "name": "stderr",
     "output_type": "stream",
     "text": [
      " 67%|██████▋   | 20/30 [00:07<00:03,  2.68it/s]"
     ]
    },
    {
     "name": "stdout",
     "output_type": "stream",
     "text": [
      "[Epoch 20/30] Train loss: 0.295 | Train accuracy: 95.717 | Test loss: 0.401 | Test accuracy: 93.860\n"
     ]
    },
    {
     "name": "stderr",
     "output_type": "stream",
     "text": [
      " 70%|███████   | 21/30 [00:07<00:03,  2.70it/s]"
     ]
    },
    {
     "name": "stdout",
     "output_type": "stream",
     "text": [
      "[Epoch 21/30] Train loss: 0.294 | Train accuracy: 95.647 | Test loss: 0.403 | Test accuracy: 93.850\n"
     ]
    },
    {
     "name": "stderr",
     "output_type": "stream",
     "text": [
      " 73%|███████▎  | 22/30 [00:08<00:02,  2.72it/s]"
     ]
    },
    {
     "name": "stdout",
     "output_type": "stream",
     "text": [
      "[Epoch 22/30] Train loss: 0.280 | Train accuracy: 95.878 | Test loss: 0.390 | Test accuracy: 93.910\n"
     ]
    },
    {
     "name": "stderr",
     "output_type": "stream",
     "text": [
      " 77%|███████▋  | 23/30 [00:08<00:02,  2.75it/s]"
     ]
    },
    {
     "name": "stdout",
     "output_type": "stream",
     "text": [
      "[Epoch 23/30] Train loss: 0.275 | Train accuracy: 96.000 | Test loss: 0.390 | Test accuracy: 93.910\n"
     ]
    },
    {
     "name": "stderr",
     "output_type": "stream",
     "text": [
      " 80%|████████  | 24/30 [00:08<00:02,  2.74it/s]"
     ]
    },
    {
     "name": "stdout",
     "output_type": "stream",
     "text": [
      "[Epoch 24/30] Train loss: 0.272 | Train accuracy: 96.062 | Test loss: 0.390 | Test accuracy: 93.890\n"
     ]
    },
    {
     "name": "stderr",
     "output_type": "stream",
     "text": [
      " 83%|████████▎ | 25/30 [00:09<00:01,  2.76it/s]"
     ]
    },
    {
     "name": "stdout",
     "output_type": "stream",
     "text": [
      "[Epoch 25/30] Train loss: 0.264 | Train accuracy: 96.157 | Test loss: 0.387 | Test accuracy: 94.010\n"
     ]
    },
    {
     "name": "stderr",
     "output_type": "stream",
     "text": [
      " 87%|████████▋ | 26/30 [00:09<00:01,  2.78it/s]"
     ]
    },
    {
     "name": "stdout",
     "output_type": "stream",
     "text": [
      "[Epoch 26/30] Train loss: 0.256 | Train accuracy: 96.373 | Test loss: 0.380 | Test accuracy: 94.160\n"
     ]
    },
    {
     "name": "stderr",
     "output_type": "stream",
     "text": [
      " 90%|█████████ | 27/30 [00:10<00:01,  2.68it/s]"
     ]
    },
    {
     "name": "stdout",
     "output_type": "stream",
     "text": [
      "[Epoch 27/30] Train loss: 0.247 | Train accuracy: 96.478 | Test loss: 0.374 | Test accuracy: 94.120\n"
     ]
    },
    {
     "name": "stderr",
     "output_type": "stream",
     "text": [
      " 93%|█████████▎| 28/30 [00:10<00:00,  2.68it/s]"
     ]
    },
    {
     "name": "stdout",
     "output_type": "stream",
     "text": [
      "[Epoch 28/30] Train loss: 0.241 | Train accuracy: 96.595 | Test loss: 0.373 | Test accuracy: 94.180\n"
     ]
    },
    {
     "name": "stderr",
     "output_type": "stream",
     "text": [
      " 97%|█████████▋| 29/30 [00:10<00:00,  2.70it/s]"
     ]
    },
    {
     "name": "stdout",
     "output_type": "stream",
     "text": [
      "[Epoch 29/30] Train loss: 0.239 | Train accuracy: 96.612 | Test loss: 0.375 | Test accuracy: 94.230\n"
     ]
    },
    {
     "name": "stderr",
     "output_type": "stream",
     "text": [
      "100%|██████████| 30/30 [00:11<00:00,  2.68it/s]"
     ]
    },
    {
     "name": "stdout",
     "output_type": "stream",
     "text": [
      "[Epoch 30/30] Train loss: 0.231 | Train accuracy: 96.783 | Test loss: 0.369 | Test accuracy: 94.170\n"
     ]
    },
    {
     "name": "stderr",
     "output_type": "stream",
     "text": [
      "\n"
     ]
    }
   ],
   "source": [
    "# Cross Entropy 손실 함수를 사용하는 모델로 학습\n",
    "ce_result = train(mlp_w_ce, learning_rate_ce, data=dataset)"
   ]
  },
  {
   "cell_type": "markdown",
   "id": "70c88d479f12234d",
   "metadata": {},
   "source": "## 학습 결과 시각화"
  },
  {
   "cell_type": "markdown",
   "id": "cc225e47eaaa0b3f",
   "metadata": {},
   "source": "### MSE 손실 함수를 사용하는 모델의 Error 변화"
  },
  {
   "cell_type": "code",
   "execution_count": 30,
   "id": "5031bdd336bb4f1b",
   "metadata": {
    "ExecuteTime": {
     "end_time": "2025-06-19T13:16:19.030577Z",
     "start_time": "2025-06-19T13:16:18.984108Z"
    }
   },
   "outputs": [
    {
     "data": {
      "image/png": "[encoded data removed]",
      "text/plain": [
       "<Figure size 1000x500 with 1 Axes>"
      ]
     },
     "metadata": {},
     "output_type": "display_data"
    }
   ],
   "source": [
    "# 학습 및 테스트 에러 시각화하기\n",
    "plt.figure(figsize=(10, 5))\n",
    "plt.plot(range(1, n_epochs + 1), mse_result[0], \"bo-\", label=\"Training Error\")\n",
    "plt.plot(range(1, n_epochs + 1), mse_result[2], \"ro-\", label=\"Test Error\")\n",
    "plt.xlabel(\"Epoch\")\n",
    "plt.ylabel(\"Mean Square Error (MSE)\")\n",
    "plt.grid(True)\n",
    "plt.legend()\n",
    "plt.show()"
   ]
  },
  {
   "cell_type": "markdown",
   "id": "bc598d8c0a3dce9a",
   "metadata": {},
   "source": "### Cross Entropy 손실 함수를 사용하는 모델의 Error 변화"
  },
  {
   "cell_type": "code",
   "execution_count": 31,
   "id": "faac14c893be66fa",
   "metadata": {
    "ExecuteTime": {
     "end_time": "2025-06-19T13:16:19.111426Z",
     "start_time": "2025-06-19T13:16:19.057980Z"
    }
   },
   "outputs": [
    {
     "data": {
      "image/png": "[encoded data removed]",
      "text/plain": [
       "<Figure size 1000x500 with 1 Axes>"
      ]
     },
     "metadata": {},
     "output_type": "display_data"
    }
   ],
   "source": [
    "# 학습 및 테스트 에러 시각화하기\n",
    "plt.figure(figsize=(10, 5))\n",
    "plt.plot(range(1, n_epochs + 1), ce_result[0], \"bo-\", label=\"Training Error\")\n",
    "plt.plot(range(1, n_epochs + 1), ce_result[2], \"ro-\", label=\"Test Error\")\n",
    "plt.xlabel(\"Epoch\")\n",
    "plt.ylabel(\"Cross Entropy (CE)\")\n",
    "plt.grid(True)\n",
    "plt.legend()\n",
    "plt.show()"
   ]
  },
  {
   "cell_type": "markdown",
   "id": "46c08042059e3c52",
   "metadata": {},
   "source": "### 모델들의 정확도 변화"
  },
  {
   "cell_type": "code",
   "execution_count": 32,
   "id": "b7bd35545f04a963",
   "metadata": {
    "ExecuteTime": {
     "end_time": "2025-06-19T13:16:19.206296Z",
     "start_time": "2025-06-19T13:16:19.133058Z"
    }
   },
   "outputs": [
    {
     "data": {
      "image/png": "[encoded data removed]",
      "text/plain": [
       "<Figure size 1000x500 with 1 Axes>"
      ]
     },
     "metadata": {},
     "output_type": "display_data"
    }
   ],
   "source": [
    "# 학습 및 테스트 정확도 시각화하기\n",
    "plt.figure(figsize=(10, 5))\n",
    "plt.plot(range(1, n_epochs + 1), mse_result[1] * 100, \"b.-\", label=\"MSE Training Accuracy\")\n",
    "plt.plot(range(1, n_epochs + 1), mse_result[3] * 100, \"r.-\", label=\"MSE Test Accuracy\")\n",
    "plt.plot(range(1, n_epochs + 1), ce_result[1] * 100, \"b.--\", label=\"CE Training Accuracy\")\n",
    "plt.plot(range(1, n_epochs + 1), ce_result[3] * 100, \"r.--\", label=\"CE Test Accuracy\")\n",
    "plt.xlabel(\"Epoch\")\n",
    "plt.ylabel(\"Accuracy (%)\")\n",
    "plt.grid(True)\n",
    "plt.legend()\n",
    "plt.show()"
   ]
  }
 ],
 "metadata": {
  "kernelspec": {
   "display_name": "Python 3",
   "language": "python",
   "name": "python3"
  },
  "language_info": {
   "codemirror_mode": {
    "name": "ipython",
    "version": 2
   },
   "file_extension": ".py",
   "mimetype": "text/x-python",
   "name": "python",
   "nbconvert_exporter": "python",
   "pygments_lexer": "ipython2",
   "version": "2.7.6"
  }
 },
 "nbformat": 4,
 "nbformat_minor": 5
}
